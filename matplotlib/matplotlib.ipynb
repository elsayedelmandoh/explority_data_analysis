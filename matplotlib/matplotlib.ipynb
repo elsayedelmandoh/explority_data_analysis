{
 "cells": [
  {
   "cell_type": "markdown",
   "metadata": {},
   "source": [
    "# matplotlib"
   ]
  },
  {
   "cell_type": "code",
   "execution_count": 2,
   "metadata": {},
   "outputs": [],
   "source": [
    "import matplotlib.pyplot as plt"
   ]
  },
  {
   "cell_type": "code",
   "execution_count": 3,
   "metadata": {},
   "outputs": [],
   "source": [
    "import numpy as np"
   ]
  },
  {
   "cell_type": "code",
   "execution_count": 4,
   "metadata": {},
   "outputs": [],
   "source": [
    "import pandas as pd"
   ]
  },
  {
   "cell_type": "markdown",
   "metadata": {},
   "source": [
    "# 1. style"
   ]
  },
  {
   "cell_type": "code",
   "execution_count": null,
   "metadata": {},
   "outputs": [],
   "source": [
    "# default style is \n",
    "\n",
    "# الوان هادية\n",
    "print(plt.style.use(\"bmh\")) \n",
    "# الوان فاقعة\n",
    "print(plt.style.use(\"classic\"))\n",
    "# الوان غامقة\n",
    "print(plt.style.use(\"dark_background\")) \n",
    "print(plt.style.use(\"fivethirtyeight\"))\n",
    "print(plt.style.use(\"ggplot\"))\n",
    "# بستخدمها في الطباعة مثلا \n",
    "print(plt.style.use(\"greyscale\"))\n",
    "print(plt.style.use(\"seaborn-bright\"))\n",
    "# عمي الالوان\n",
    "print(plt.style.use(\"seaborn-colorblind\"))\n",
    "# ازرق فاتح\n",
    "print(plt.style.use(\"seaborn-dark\"))\n",
    "# ازرق غامق\n",
    "print(plt.style.use(\"seaborn-dark-palette\"))\n",
    "# ازرق فاقع\n",
    "print(plt.style.use(\"seaborn-darkgrid\"))\n",
    "print(plt.style.use(\"seaborn-deep\"))\n",
    "print(plt.style.use(\"seaborn-muted\"))\n",
    "print(plt.style.use(\"seaborn-notebook\"))\n",
    "print(plt.style.use(\"seaborn-paper\"))\n",
    "print(plt.style.use(\"seaborn-pastel\"))\n",
    "print(plt.style.use(\"seaborn-poster\"))\n",
    "print(plt.style.use(\"seaborn-talk\"))\n",
    "print(plt.style.use(\"seaborn-ticks\"))\n",
    "print(plt.style.use(\"seaborn-white\"))\n",
    "print(plt.style.use(\"seaborn-whitegrid\"))"
   ]
  },
  {
   "cell_type": "markdown",
   "metadata": {},
   "source": [
    "# 2. plot"
   ]
  },
  {
   "cell_type": "markdown",
   "metadata": {},
   "source": [
    "### plt.plot(x,y1, x,y2, x,y3..., marker='o', markersize=5, color='blue', linestyle = '--', linewidth= 5)\n",
    "+ + رسم الشكل البياني علي هيئة نقاط وليس خطوط\n",
    "##### default x is 0 1 2 3 4 5 .....\n",
    "##### must pass y \n",
    "\n",
    "##### marker is - , o , -o , ^ , . , -- , > , < , , , 1 , 2 , 3 , 4 , 8 , s , p , P , * , h , x , + , d , | , _ \n",
    "\n",
    "##### color is \n",
    "+ green red blue yellow cyan magentic k: black white\n",
    "+ g r b y c m k w\n",
    "+ 0.75 between 0: black to 1: white\n",
    "+ #FFDD44 \n",
    "+ (1,0.5,0.6) between 0: black to 1: white\n",
    "+ chartreuse\n",
    "\n",
    "##### linestyle is sold - , dashed -- , dashdot -. , dotted :\n",
    "\n",
    "##### color with linestyle maybe is b-- , g- , r-. , b:\n",
    "\n",
    "##### color with marker \n",
    "+ r*: red with marker *  \n",
    "+ gh: green with marker h\n",
    "+ bx: blue with marker x\n",
    "+ y+: yellow with marker +"
   ]
  },
  {
   "cell_type": "code",
   "execution_count": null,
   "metadata": {},
   "outputs": [],
   "source": [
    "# this is Y\n",
    "# x is 0 1 2 3 4 5\n",
    "plt.plot((1,2,3,4,5.3,5))"
   ]
  },
  {
   "cell_type": "code",
   "execution_count": 5,
   "metadata": {},
   "outputs": [
    {
     "data": {
      "text/plain": [
       "[<matplotlib.lines.Line2D at 0x21706c97e10>]"
      ]
     },
     "execution_count": 5,
     "metadata": {},
     "output_type": "execute_result"
    },
    {
     "data": {
      "image/png": "[encoded data removed]",
      "text/plain": [
       "<Figure size 640x480 with 1 Axes>"
      ]
     },
     "metadata": {},
     "output_type": "display_data"
    }
   ],
   "source": [
    "# x is 0 1 2 3 4 5\n",
    "# y is random number between 0 and 15\n",
    "plt.plot(np.arange(6),np.random.randint(0,15,6))"
   ]
  },
  {
   "cell_type": "code",
   "execution_count": null,
   "metadata": {},
   "outputs": [],
   "source": [
    "# x is 0 1 2 3 4 5\n",
    "# y is random number between 0 and 15\n",
    "\n",
    "plt.style.use('ggplot') # used bakt ggplot\n",
    "plt.plot(np.arange(6),np.random.randint(0,15,6))"
   ]
  },
  {
   "cell_type": "code",
   "execution_count": null,
   "metadata": {},
   "outputs": [],
   "source": [
    "# linespace(start , end ,count) : return 50 number from start to end\n",
    "# print(np.linspace(0,10,5)) # return 5 numbers from start to end\n",
    "'''\n",
    "radian / degree = pi / 180 \n",
    "so ..\n",
    "radian = degree * pi / 180 \n",
    "degree = radian * 180 / pi\n",
    "'''\n",
    "x = np.linspace(0,10)\n",
    "y = np.sin(x) # x is radian not degree\n",
    "plt.plot(x,y)"
   ]
  },
  {
   "cell_type": "code",
   "execution_count": null,
   "metadata": {},
   "outputs": [],
   "source": [
    "# name label and name title\n",
    "plt.xlabel(\"Time\")\n",
    "plt.ylabel(\"Work\")\n",
    "plt.title(\"graph\")\n",
    "plt.plot(np.arange(6),np.random.randint(0,15,6))"
   ]
  },
  {
   "cell_type": "code",
   "execution_count": null,
   "metadata": {},
   "outputs": [],
   "source": [
    "# name label \n",
    "plt.axes().set_xlabel(\"XX\")\n",
    "plt.axes().set_ylabel(\"YY\")\n",
    "plt.axes().set_title(\"graph\")\n",
    "plt.plot(np.arange(6),np.random.randint(0,15,6))"
   ]
  },
  {
   "cell_type": "code",
   "execution_count": null,
   "metadata": {},
   "outputs": [],
   "source": [
    "# name label \n",
    "plt.axes().set(xlabel=\"XXX\",ylabel=\"YYY\",title=\"graph\")\n",
    "plt.plot(np.arange(6),np.random.randint(0,15,6))"
   ]
  },
  {
   "cell_type": "code",
   "execution_count": null,
   "metadata": {},
   "outputs": [],
   "source": [
    "# marker\n",
    "plt.plot(np.arange(6),np.random.randint(0,15,6),marker='o') # maybe default markersize=6"
   ]
  },
  {
   "cell_type": "code",
   "execution_count": null,
   "metadata": {},
   "outputs": [],
   "source": [
    "# markersize\n",
    "plt.plot(np.arange(6),np.random.randint(0,15,6),marker='o',markersize=11)"
   ]
  },
  {
   "cell_type": "code",
   "execution_count": null,
   "metadata": {},
   "outputs": [],
   "source": [
    "# color\n",
    "plt.plot(np.arange(6),np.random.randint(0,15,6),marker='o',markersize=5,color='blue')\n",
    "plt.plot(np.arange(6),np.random.randint(0,15,6),marker='o',markersize=5,color='g') # green\n",
    "plt.plot(np.arange(6),np.random.randint(0,15,6),marker='o',markersize=5,color='0.75') # grey > B&W 0:1\n",
    "plt.plot(np.arange(6),np.random.randint(0,15,6),marker='o',markersize=5,color='#FFDD44') # yellow\n",
    "plt.plot(np.arange(6),np.random.randint(0,15,6),marker='o',markersize=5,color=(1,0.5,0.7))## pink\n",
    "plt.plot(np.arange(6),np.random.randint(0,15,6),marker='o',markersize=5,color='chartreuse') # light green"
   ]
  },
  {
   "cell_type": "code",
   "execution_count": null,
   "metadata": {},
   "outputs": [],
   "source": [
    "# title \n",
    "plt.plot(np.arange(6),np.random.randint(0,15,6),marker='o',markersize=5,color='blue')"
   ]
  },
  {
   "cell_type": "code",
   "execution_count": null,
   "metadata": {},
   "outputs": [],
   "source": [
    "# use function with Y \n",
    "x = np.arange(6)\n",
    "\n",
    "y1 = np.random.randint(0,15,6)\n",
    "def y2(x):\n",
    "    return x**2\n",
    "\n",
    "# three graph\n",
    "plt.plot(x,y1,x,y2(x),marker='o',markersize=5,linestyle = '--')"
   ]
  },
  {
   "cell_type": "code",
   "execution_count": null,
   "metadata": {},
   "outputs": [],
   "source": [
    "# linestyle \n",
    "plt.plot(x, x + 0, linestyle='solid')\n",
    "plt.plot(x, x + 1, linestyle='-')\n",
    "plt.plot(x, x + 4, linestyle='dashed')\n",
    "plt.plot(x, x + 5, linestyle='--')\n",
    "plt.plot(x, x + 8, linestyle='dashdot')\n",
    "plt.plot(x, x + 9, linestyle='-.')\n",
    "plt.plot(x, x + 12, linestyle='dotted')\n",
    "plt.plot(x, x + 13, linestyle=':')"
   ]
  },
  {
   "cell_type": "code",
   "execution_count": null,
   "metadata": {},
   "outputs": [],
   "source": [
    "# color with linestyle \n",
    "# b-- : color is blue and linestyle = -- \n",
    "plt.plot(np.arange(6),np.random.randint(0,15,6),'b--',marker='o',markersize=5)"
   ]
  },
  {
   "cell_type": "code",
   "execution_count": null,
   "metadata": {},
   "outputs": [],
   "source": [
    "# linewidth\n",
    "plt.plot(np.arange(6),np.random.randint(0,15,6),'b--',linewidth = 5)"
   ]
  },
  {
   "cell_type": "code",
   "execution_count": null,
   "metadata": {},
   "outputs": [],
   "source": [
    "# more graph with diff color & marker\n",
    "x = np.arange(7)\n",
    "y1 = np.random.randint(0,15,7)\n",
    "y2 = np.random.randint(0,15,7)\n",
    "y3 = np.random.randint(0,15,7)\n",
    "plt.plot(x,y1,'r*', x,y2,'gh', x,y3,'b--')"
   ]
  },
  {
   "cell_type": "code",
   "execution_count": null,
   "metadata": {},
   "outputs": [],
   "source": [
    "# cumsum() : sum all next numbers\n",
    "ran = np.random.randint(0,10,size=5)\n",
    "print(ran) # [7 3 1 9 7]\n",
    "print(np.cumsum(ran)) # [ 7 10 11 20 27]"
   ]
  },
  {
   "cell_type": "code",
   "execution_count": null,
   "metadata": {},
   "outputs": [],
   "source": [
    "# cumsum() with plot\n",
    "x = np.linspace(0,10,50)\n",
    "y = np.cumsum(np.random.randint(0,10,size=50))\n",
    "plt.plot(x,y)"
   ]
  },
  {
   "cell_type": "markdown",
   "metadata": {},
   "source": [
    "### errorbar(x,y, yerr= 0.2 , fmt= .b, color= 'black', ecolor='lightgray', elinewidth= 4, capsize=0)\n",
    "##### yerr is y - value of error\n",
    "##### xerr is x - value of error \n",
    "##### fmt is marker is . and color is blue\n",
    "##### ecolor is error color\n",
    "##### elinewidth is error line width\n",
    "##### capsize is الشرطة او المساحة اللي فوق وتحت عمود الايرور"
   ]
  },
  {
   "cell_type": "code",
   "execution_count": null,
   "metadata": {},
   "outputs": [],
   "source": [
    "# yerr is value of error \n",
    "# fmt is marker is . and color is blue\n",
    "plt.errorbar(np.arange(7), np.sin(np.arange(7)), yerr= 0.2 , fmt= 'r--')\n",
    "plt.errorbar(np.arange(50), np.sin(np.arange(50)), yerr= 1.2 , fmt= '.r') # yerr bigger"
   ]
  },
  {
   "cell_type": "code",
   "execution_count": null,
   "metadata": {},
   "outputs": [],
   "source": [
    "# ecolor is error color\n",
    "# elinewidth is error line width\n",
    "# capsize is الشرطة او المساحة اللي فوق وتحت عمود الايرور\n",
    "plt.errorbar(np.arange(7), np.sin(np.arange(7)), yerr= 0.2 , fmt= 'o',color= 'black', ecolor='lightgray', elinewidth= 3, capsize=5)\n",
    "plt.errorbar(np.arange(7), np.sin(np.arange(7)), yerr= 0.2 , fmt= 'o',color= 'black', ecolor='lightgray', elinewidth= 3, capsize=20) # cap bigger"
   ]
  },
  {
   "cell_type": "code",
   "execution_count": null,
   "metadata": {},
   "outputs": [],
   "source": [
    "# xerr is x - value of error \n",
    "plt.errorbar(np.arange(7), np.sin(np.arange(7)), xerr= 0.2 , fmt= 'r--')"
   ]
  },
  {
   "cell_type": "markdown",
   "metadata": {},
   "source": [
    "+ some advanced drawing using plot"
   ]
  },
  {
   "cell_type": "code",
   "execution_count": null,
   "metadata": {},
   "outputs": [],
   "source": [
    "# create function to read file and return list from values of month\n",
    "def extract_data(filename):\n",
    "    infile = open(filename, 'r')\n",
    "    infile.readline() # skip the first line\n",
    "    numbers = []\n",
    "    for line in infile:\n",
    "        words = line.split()\n",
    "        number = float(words[1])\n",
    "        numbers.append(number)\n",
    "    infile.close()\n",
    "    return numbers\n",
    "\n",
    "# x is 0 to 12 as 12 month \n",
    "x = range(1, 13) \n",
    "# return list from values of month which is y and [:-1] : not read last line\n",
    "y = extract_data(r'/media/elsayedelmandoh/Rio/Courses/Python/010-mod_matplotlib/data.txt')[:-1]\n",
    "plt.plot(x, y, '*r')"
   ]
  },
  {
   "cell_type": "markdown",
   "metadata": {},
   "source": [
    "# 3. Scatter"
   ]
  },
  {
   "cell_type": "markdown",
   "metadata": {},
   "source": [
    "+ diff between Scatter and plot\n",
    "\n",
    "- Plot is Lines\n",
    "- Scatter is Points\n",
    "\n",
    "- plot can pass y only and x is default 0 1 2 3 4 5 ...\n",
    "- Scatter must be pass x and y as list , tuple or sit"
   ]
  },
  {
   "cell_type": "markdown",
   "metadata": {},
   "source": [
    "##### plt.scatter(x,y, color='y' , size=50 , alpha=0.3)\n",
    "+ رسم الشكل البياني علي هيئة نقاط وليس خطوط\n",
    "+ color or c = green or g or .....\n",
    "+ s is size \n",
    "+ alpha is between 0 to 1"
   ]
  },
  {
   "cell_type": "code",
   "execution_count": null,
   "metadata": {},
   "outputs": [],
   "source": [
    "# rand(50) : 50 random numbers between 0 to 1\n",
    "plt.scatter(np.random.rand(50),np.random.rand(50), c='b', s=50, alpha= 0.5)"
   ]
  },
  {
   "cell_type": "code",
   "execution_count": null,
   "metadata": {},
   "outputs": [],
   "source": [
    "# normal(start, end, count)\n",
    "plt.scatter(np.random.normal(0,5,500),np.random.normal(0,5,500),50) "
   ]
  },
  {
   "cell_type": "code",
   "execution_count": null,
   "metadata": {},
   "outputs": [],
   "source": [
    "# color is np.random.randint\n",
    "plt.scatter(np.random.normal(0,5,50), np.random.normal(1,10,50),50, c=np.random.randint(0,240,50)) "
   ]
  },
  {
   "cell_type": "code",
   "execution_count": null,
   "metadata": {},
   "outputs": [],
   "source": [
    "# size is np.random.randint\n",
    "plt.scatter(np.random.normal(0,5,50), np.random.normal(1,10,50), s=50+np.random.randint(0,100,50))"
   ]
  },
  {
   "cell_type": "code",
   "execution_count": null,
   "metadata": {},
   "outputs": [],
   "source": [
    "# aplha using random.random which return 50 random numbers between 0 to 1\n",
    "plt.scatter(np.random.normal(0,5,50), np.random.normal(1,10,50), alpha= np.random.random(50), s=100, c=np.random.randint(0,200,50))"
   ]
  },
  {
   "cell_type": "code",
   "execution_count": null,
   "metadata": {},
   "outputs": [],
   "source": [
    "# colorbar()\n",
    "plt.scatter(np.random.normal(0,5,50), np.random.normal(1,10,50), alpha= np.random.random(50), s=100, c=np.random.randint(0,200,50))\n",
    "plt.colorbar() # تدريج الالوان"
   ]
  },
  {
   "cell_type": "markdown",
   "metadata": {},
   "source": [
    "# 4. Pie"
   ]
  },
  {
   "cell_type": "markdown",
   "metadata": {},
   "source": [
    "##### plt.pie(x, axis='equal', explode=0.1 or -0.1, autopct=\"%1.1f%%\", shadow=True, startangle=90, labeldistance=1.5, pctdistance=1.6)\n",
    "+ لرسسم الاشكال البيانية علي هيئة قرص\n",
    "+ x is list , set , tuple\n",
    "+ axis is equal بيخلي الباي بتكون دائرية مش مسطحة\n",
    "+ -explode if mins then الجزء هيدخل ل جوا\n",
    "+ -explode if positive then الجزء هيطلع برا الجراف شوية\n",
    "+ autopct بيرسم النسب بتاع قيم x علي الشارت\n",
    "+ startangle is from 0 to 360\n",
    "+ labeldistance is 1.5 and default is 1.1\n",
    "+ pctdistance is 1.6 and default is 0.6"
   ]
  },
  {
   "cell_type": "code",
   "execution_count": null,
   "metadata": {},
   "outputs": [],
   "source": [
    "# x is list , set , tuple\n",
    "plt.pie([10,50,60,80])"
   ]
  },
  {
   "cell_type": "code",
   "execution_count": null,
   "metadata": {},
   "outputs": [],
   "source": [
    "# axis(\"equal\")\n",
    "plt.pie(np.linspace(10,30,5),labels=['Egypt','USA','Russia','UEA','China'])\n",
    "plt.axis(\"equal\")"
   ]
  },
  {
   "cell_type": "code",
   "execution_count": null,
   "metadata": {},
   "outputs": [],
   "source": [
    "# explode is positive or negative\n",
    "plt.pie(np.linspace(10,30,5),labels=['Egypt','USA','Russia','UEA','China'], explode=[0.1, 0, -0.1, 0.2, 0])"
   ]
  },
  {
   "cell_type": "code",
   "execution_count": null,
   "metadata": {},
   "outputs": [],
   "source": [
    "# autopct is %1.1f%%\n",
    "plt.pie(np.linspace(10,30,5),labels=['Egypt','USA','Russia','UEA','China'], explode=[0.1, 0, -0.1, 0.2, 0], autopct=\"%1.1f%%\")"
   ]
  },
  {
   "cell_type": "code",
   "execution_count": null,
   "metadata": {},
   "outputs": [],
   "source": [
    "# shadow is True\n",
    "plt.pie(np.linspace(10,30,5),labels=['Egypt','USA','Russia','UEA','China'], explode=[0.1, 0, -0.1, 0.2, 0], autopct=\"%1.1f%%\",shadow=True)"
   ]
  },
  {
   "cell_type": "code",
   "execution_count": null,
   "metadata": {},
   "outputs": [],
   "source": [
    "# startangle= from 0 to 360\n",
    "# default is 0\n",
    "plt.pie(np.linspace(10,30,5),labels=['Egypt','USA','Russia','UEA','China'], autopct=\"%1.1f%%\",startangle=90)"
   ]
  },
  {
   "cell_type": "code",
   "execution_count": null,
   "metadata": {},
   "outputs": [],
   "source": [
    "# labeldistance is 1.5 \n",
    "# default is 1.1\n",
    "plt.pie(np.linspace(10,30,5),labels=['Egypt','USA','Russia','UEA','China'], autopct=\"%1.1f%%\", labeldistance=1.1)"
   ]
  },
  {
   "cell_type": "code",
   "execution_count": null,
   "metadata": {},
   "outputs": [],
   "source": [
    "# pctdistance is 1.2\n",
    "# default is 0.6\n",
    "plt.pie(np.linspace(10,30,5),labels=['Egypt','USA','Russia','UEA','China'], autopct=\"%1.1f%%\", pctdistance=1.6)"
   ]
  },
  {
   "cell_type": "markdown",
   "metadata": {},
   "source": [
    "# 5. bar"
   ]
  },
  {
   "cell_type": "markdown",
   "metadata": {},
   "source": [
    "##### plt.bar(x,y, width=0.5, color='r', alpha=0.6)\n",
    "+ رسم البيانات بالاعمدة\n",
    "+ must pass x and y\n",
    "+ width is between 0 to 1\n",
    "+ alpha is between 0 to 1\n"
   ]
  },
  {
   "cell_type": "code",
   "execution_count": null,
   "metadata": {},
   "outputs": [],
   "source": [
    "# x,y\n",
    "plt.bar(np.linspace(0,20,10), np.random.randint(0,20,10))"
   ]
  },
  {
   "cell_type": "code",
   "execution_count": null,
   "metadata": {},
   "outputs": [],
   "source": [
    "# width \n",
    "plt.bar(np.linspace(0,20,10), np.random.randint(0,20,10), width=0.6)"
   ]
  },
  {
   "cell_type": "code",
   "execution_count": null,
   "metadata": {},
   "outputs": [],
   "source": [
    "# color \n",
    "plt.bar(np.linspace(0,20,10), np.random.randint(0,20,10), width=0.6, color='r')"
   ]
  },
  {
   "cell_type": "code",
   "execution_count": null,
   "metadata": {},
   "outputs": [],
   "source": [
    "# alpha between 0 to 1\n",
    "plt.bar(np.linspace(0,20,10), np.random.randint(0,20,10), width=0.6, alpha=0.6)"
   ]
  },
  {
   "cell_type": "code",
   "execution_count": null,
   "metadata": {},
   "outputs": [],
   "source": [
    "# facecolor وجه الشارت and edgecolor حدود الشارت\n",
    "plt.bar(np.linspace(0,20,10), np.random.randint(0,20,10), facecolor='r', edgecolor='b')"
   ]
  },
  {
   "cell_type": "markdown",
   "metadata": {},
   "source": [
    "##### plt.text(x,y, nametext, style=\"italic\", bbox={facecolor:'r', alpha:0.5, pad:10}, ha='center', va='bottom')\n",
    "+ pad is size box"
   ]
  },
  {
   "cell_type": "code",
   "execution_count": null,
   "metadata": {},
   "outputs": [],
   "source": [
    "plt.bar(np.linspace(0,20,10), np.random.randint(0,20,10))\n",
    "plt.text(7,-3, \"Polulation\", style=\"italic\", bbox={'facecolor':'b', 'edgecolor':'r','alpha':0.5, 'pad':10})"
   ]
  },
  {
   "cell_type": "code",
   "execution_count": null,
   "metadata": {},
   "outputs": [],
   "source": [
    "# draw value on chart\n",
    "x = np.linspace(0,20,10)\n",
    "y = np.random.randint(0,20,10)\n",
    "plt.bar(x, y)\n",
    "for xx, yy in zip(x,y):\n",
    "    plt.text(xx,yy,yy,ha='center', va='bottom')"
   ]
  },
  {
   "cell_type": "code",
   "execution_count": null,
   "metadata": {},
   "outputs": [],
   "source": [
    "# +y and -y on chart\n",
    "x = np.linspace(0,20,10)\n",
    "yp = np.random.randint(0,20,10)\n",
    "yn = np.random.randint(0,20,10)\n",
    "print(yp)\n",
    "print(yn)\n",
    "plt.bar(x,+yp)\n",
    "plt.bar(x,-yn)\n",
    "\n",
    "for xx1,yy1 in zip(x,yp):\n",
    "    plt.text(xx1,yy1,yy1, ha='center', va='bottom')\n",
    "    \n",
    "for xx2,yy2 in zip(x,yn):\n",
    "    plt.text(xx2,-abs(yy2)-2,-abs(yy2)-2, ha='center', va='bottom')"
   ]
  },
  {
   "cell_type": "markdown",
   "metadata": {},
   "source": [
    "# 6. histogram"
   ]
  },
  {
   "cell_type": "markdown",
   "metadata": {},
   "source": [
    "##### hist(data, bins, normed=True, alpha, histtype, color)\n",
    "+ امر خاص بالتكتلات سواء عدد الاعمدة او النقاط\n",
    "+ bins : number of cols\n",
    "+ histtype : \"bar\" or \"step\""
   ]
  },
  {
   "cell_type": "code",
   "execution_count": null,
   "metadata": {},
   "outputs": [],
   "source": [
    "plt.hist(np.random.randn(4000), bins=40, alpha=0.7, histtype=\"step\", color='r')"
   ]
  },
  {
   "cell_type": "code",
   "execution_count": null,
   "metadata": {},
   "outputs": [],
   "source": [
    "data = pd.DataFrame(np.random.rand(5,2), columns=['x','y'], index=['a','b','c','d','e'])\n",
    "for col in \"xy\":\n",
    "    plt.hist(data[col])"
   ]
  },
  {
   "cell_type": "code",
   "execution_count": null,
   "metadata": {},
   "outputs": [],
   "source": [
    "# multi hist\n",
    "plt.hist(np.random.normal(0, 3, 500), histtype='bar', bins=50, alpha=0.3)\n",
    "plt.hist(np.random.normal(-2, 1, 500), histtype='stepfilled', bins=50, alpha=0.7)\n",
    "plt.hist(np.random.normal(3, 5, 500), histtype='step', bins=50, alpha=0.9)"
   ]
  },
  {
   "cell_type": "code",
   "execution_count": null,
   "metadata": {},
   "outputs": [],
   "source": [
    "# multi hist with dict\n",
    "dic = dict(histtype='bar', bins=50, alpha=0.3)\n",
    "print(dic)\n",
    "plt.hist(np.random.normal(0, 3, 500), **dic)\n",
    "plt.hist(np.random.normal(-2, 1, 500), **dic)\n",
    "plt.hist(np.random.normal(3, 5, 500), **dic)"
   ]
  },
  {
   "cell_type": "markdown",
   "metadata": {},
   "source": [
    "##### hist2d(x, y, cmap, bins)\n",
    "+ مدي ترابط الارقام مع بعض\n",
    "+ cmap = Reds or Blues\n",
    "+ bins for colos , default is 10 cols"
   ]
  },
  {
   "cell_type": "code",
   "execution_count": null,
   "metadata": {},
   "outputs": [],
   "source": [
    "plt.hist2d([1, 2, 3, 4, 5, 3, 6, 7, 8, 9, 11, 11], [2 ,4, 3, 5, 6, 3, 7, 8, 9, 1, 7, 7])"
   ]
  },
  {
   "cell_type": "code",
   "execution_count": null,
   "metadata": {},
   "outputs": [],
   "source": [
    "# random.rand(10) : 10 \n",
    "plt.hist2d(np.random.rand(20), np.random.rand(20))"
   ]
  },
  {
   "cell_type": "code",
   "execution_count": null,
   "metadata": {},
   "outputs": [],
   "source": [
    "# cmap for colors\n",
    "plt.hist2d(np.random.rand(20), np.random.rand(20), cmap='Reds')"
   ]
  },
  {
   "cell_type": "code",
   "execution_count": null,
   "metadata": {},
   "outputs": [],
   "source": [
    "# bins is 20 , so cols is 20 and rows is 20 , so 400 square\n",
    "plt.hist2d(np.random.rand(20), np.random.rand(20), bins=20)"
   ]
  },
  {
   "cell_type": "code",
   "execution_count": null,
   "metadata": {},
   "outputs": [],
   "source": [
    "# colorbar and set_label for name colorbar\n",
    "plt.hist2d(np.random.rand(200), np.random.rand(200), bins=20)\n",
    "plt.colorbar().set_label(\"count in bin\")"
   ]
  },
  {
   "cell_type": "code",
   "execution_count": null,
   "metadata": {},
   "outputs": [],
   "source": [
    "# root 3\n",
    "x = np.random.rand(200)\n",
    "plt.hist2d(x, x**(1/3), bins= 30, cmap='Reds')\n",
    "plt.colorbar().set_label(\"count bins\")"
   ]
  },
  {
   "cell_type": "markdown",
   "metadata": {},
   "source": [
    "##### hexbin(x, y, cmap, gridsize)\n",
    "+ مدي ترابط الارقام مع بعض\n",
    "+ cmap = Reds or Blues or BuPu\n",
    "+ gridsize for size hexbin"
   ]
  },
  {
   "cell_type": "code",
   "execution_count": null,
   "metadata": {},
   "outputs": [],
   "source": [
    "plt.hexbin(np.random.rand(20), np.random.rand(20), gridsize=20, cmap=\"Reds\")"
   ]
  },
  {
   "cell_type": "markdown",
   "metadata": {},
   "source": [
    "# 7. contour"
   ]
  },
  {
   "cell_type": "markdown",
   "metadata": {},
   "source": [
    "#### plt.contour(x,y,z, colors= 'r',cmap, cap, alpha)\n",
    "+ الكنتور بيتعامل مع حاجات ثلاثية الابعاد بس مش هشوفها ك ثلاثية الابعاد \n",
    "+ matrix 'x' as 1 dimensions\n",
    "+ matrix 'y' as 1 dimensions\n",
    "+ martix 'z' is rows is matrix 'x' and cols is matrix 'y' as 2 dim\n",
    "+ colors = 'red' or 'r'\n",
    "+ cmap Reds, RdGy , terrain , gist_stern , RdYlGn , \n",
    "+ cap is capacity"
   ]
  },
  {
   "cell_type": "code",
   "execution_count": null,
   "metadata": {},
   "outputs": [],
   "source": [
    "x =np.arange(3) # 0 1 2\n",
    "y =np.arange(3) # 0 1 2 \n",
    "z = [[1, 2, 3],\n",
    "    [2, 6, 8],\n",
    "    [9, 6, 4]]\n",
    "plt.contour(x, y, z)"
   ]
  },
  {
   "cell_type": "code",
   "execution_count": null,
   "metadata": {},
   "outputs": [],
   "source": [
    "x =np.arange(10) # 0 1 2 3 4 5 6 7 8 9\n",
    "y =np.arange(10) # 0 1 2 3 4 5 6 7 8 9\n",
    "z =np.random.randint(0,15,(len(x),len(y)))\n",
    "plt.contour(x, y, z)"
   ]
  },
  {
   "cell_type": "code",
   "execution_count": null,
   "metadata": {},
   "outputs": [],
   "source": [
    "def fun(x,y):# to make matrix z\n",
    "    return np.sin(x) ** 3 + np.cos(10 + y * x) * np.cos(x)\n",
    "\n",
    "x =np.linspace(0,10,50) # 0 1 2 3 4 5 6 7 8 9\n",
    "y =np.linspace(0,15,40) # 0 1 2 3 4 5 6 7 8 9 10 11 12 13 14\n",
    "\n",
    "xx, yy = np.meshgrid(x, y) # to make 2 dimension\n",
    "\n",
    "plt.contour(xx, yy, fun(xx, yy), colors='red')"
   ]
  },
  {
   "cell_type": "code",
   "execution_count": null,
   "metadata": {},
   "outputs": [],
   "source": [
    "# cap\n",
    "def fun(x,y):# to make matrix z\n",
    "    return np.sin(x) ** 3 + np.cos(10 + y * x) * np.cos(x)\n",
    "\n",
    "x =np.linspace(0,10,50) # 0 1 2 3 4 5 6 7 8 9\n",
    "y =np.linspace(0,15,40) # 0 1 2 3 4 5 6 7 8 9 10 11 12 13 14\n",
    "\n",
    "xx, yy = np.meshgrid(x, y) # to make 2 dimension\n",
    "\n",
    "plt.contour(xx, yy, fun(xx, yy),cap =20, colors='red')"
   ]
  },
  {
   "cell_type": "code",
   "execution_count": null,
   "metadata": {},
   "outputs": [],
   "source": [
    "# cmap\n",
    "def fun(x,y):\n",
    "    return np.sin(x) ** 3 + np.cos(10 + y * x) * np.cos(x)\n",
    "\n",
    "x =np.linspace(0,10,50) # 0 1 2 3 4 5 6 7 8 9\n",
    "y =np.linspace(0,15,40) # 0 1 2 3 4 5 6 7 8 9 10 11 12 13 14\n",
    "\n",
    "xx, yy = np.meshgrid(x, y) # to make 2 dimension\n",
    "\n",
    "plt.contour(xx, yy, fun(xx, yy),cap =20, cmap='RdGy')"
   ]
  },
  {
   "cell_type": "code",
   "execution_count": null,
   "metadata": {},
   "outputs": [],
   "source": [
    "# contour to make only lines ...\n",
    "\n",
    "def fun(x,y):\n",
    "    return np.sin(x) ** 3 + np.cos(10 + y * x) * np.cos(x)\n",
    "x =np.linspace(0,10,50) # 0 1 2 3 4 5 6 7 8 9\n",
    "y =np.linspace(0,15,40) # 0 1 2 3 4 5 6 7 8 9 10 11 12 13 14\n",
    "xx, yy = np.meshgrid(x, y) # to make 2 dimension\n",
    "plt.contour(xx, yy, fun(xx, yy),cap =8, colors='r')\n",
    "plt.colorbar().set_label(\"scaling color\") "
   ]
  },
  {
   "cell_type": "code",
   "execution_count": null,
   "metadata": {},
   "outputs": [],
   "source": [
    "# contourf to make fill(colors) in lines \n",
    "\n",
    "def fun(x,y):\n",
    "    return np.sin(x) ** 3 + np.cos(10 + y * x) * np.cos(x)\n",
    "x =np.linspace(0,10,50) # 0 1 2 3 4 5 6 7 8 9\n",
    "y =np.linspace(0,15,40) # 0 1 2 3 4 5 6 7 8 9 10 11 12 13 14\n",
    "xx, yy = np.meshgrid(x, y) # to make 2 dimension\n",
    "plt.contourf(xx, yy, fun(xx, yy),cap =8, cmap='jet')\n",
    "plt.colorbar().set_label(\"scaling color\") "
   ]
  },
  {
   "cell_type": "code",
   "execution_count": null,
   "metadata": {},
   "outputs": [],
   "source": [
    "# contour to make only lines ...\n",
    "# contourf to make fill(colors) in lines \n",
    "# run contour and contourf\n",
    "def fun(x,y):\n",
    "    return np.sin(x) ** 3 + np.cos(10 + y * x) * np.cos(x)\n",
    "x =np.linspace(0,10,50) # 0 1 2 3 4 5 6 7 8 9\n",
    "y =np.linspace(0,15,40) # 0 1 2 3 4 5 6 7 8 9 10 11 12 13 14\n",
    "xx, yy = np.meshgrid(x, y) # to make 2 dimension\n",
    "plt.contour(xx, yy, fun(xx, yy),cap =8, colors='r')\n",
    "plt.contourf(xx, yy, fun(xx, yy),cap =8, cmap='jet')\n",
    "plt.colorbar().set_label(\"scaling color\") "
   ]
  },
  {
   "cell_type": "code",
   "execution_count": null,
   "metadata": {},
   "outputs": [],
   "source": [
    "# clabel to make text in graph \n",
    "'''\n",
    "inline : to make line in graph\n",
    "'''\n",
    "# imshow to colors\n",
    "'''\n",
    "extent : [start_x, end_x , start_y, end_y] \n",
    "'''\n",
    "\n",
    "def fun(x,y):\n",
    "    return np.sin(x) ** 3 + np.cos(10 + y * x) * np.cos(x)\n",
    "\n",
    "x =np.linspace(0,10,50) # 0 1 2 3 4 5 6 7 8 9\n",
    "y =np.linspace(0,15,40) # 0 1 2 3 4 5 6 7 8 9 10 11 12 13 14\n",
    "\n",
    "xx, yy = np.meshgrid(x, y) # to make 2 dimension\n",
    "\n",
    "contor = plt.contourf(xx, yy, fun(xx, yy),cap =20, cmap='RdGy')\n",
    "plt.clabel(contor, inline=True, fontsize=8)\n",
    "plt.imshow(fun(xx,yy), extent=[0,10,0,15], cmap=\"RdGy\", alpha= 0.6)\n",
    "plt.colorbar().set_label(\"scaling color\") "
   ]
  },
  {
   "cell_type": "markdown",
   "metadata": {},
   "source": [
    "# 8. 3D"
   ]
  },
  {
   "cell_type": "markdown",
   "metadata": {},
   "source": [
    "+ بستخدمها عشان ارسم رسم بياني 3D\n",
    "+ matrix 'x' as 1 dimensions\n",
    "+ matrix 'y' as 1 dimensions\n",
    "+ martix 'z' is rows is matrix 'x' and cols is matrix 'y' as 2 dim"
   ]
  },
  {
   "cell_type": "code",
   "execution_count": null,
   "metadata": {},
   "outputs": [],
   "source": [
    "from mpl_toolkits.mplot3d import Axes3D"
   ]
  },
  {
   "cell_type": "code",
   "execution_count": null,
   "metadata": {},
   "outputs": [],
   "source": [
    "# لرسم الفراغ المجسم\n",
    "plt.figure()\n",
    "plt.axes(projection='3d')\n",
    "\n",
    "# or \n",
    "ax = Axes3D(plt.figure()) # but must call function Axes3D from mpl_toolkits.mplot3d"
   ]
  },
  {
   "cell_type": "markdown",
   "metadata": {},
   "source": [
    "##### plt.plot.surface(x, y, z, cmap=\"hot\", edgecolor = 'b')"
   ]
  },
  {
   "cell_type": "code",
   "execution_count": null,
   "metadata": {},
   "outputs": [],
   "source": [
    "# cmap\n",
    "\n",
    "X = np.arange(-4,4,0.25) # X Value\n",
    "Y = np.arange(-4,4,0.25) # Y Value \n",
    "X,Y = np.meshgrid(X,Y) # combine them\n",
    "Z = np.sin(np.sqrt(X**2 + Y**2)) # Z Value\n",
    "\n",
    "ax = Axes3D(plt.figure()) # to make 3d figure\n",
    "ax.plot_surface(X,Y,Z, cmap=\"hot\") # Draw them"
   ]
  },
  {
   "cell_type": "code",
   "execution_count": null,
   "metadata": {},
   "outputs": [],
   "source": [
    "# make names for x , y , z\n",
    "\n",
    "X = np.arange(-4,4,0.25) # X Value\n",
    "Y = np.arange(-4,4,0.25) # Y Value \n",
    "X,Y = np.meshgrid(X,Y) # combine them\n",
    "Z = np.cos(np.sqrt(X**2 + Y**2)) # Z Value\n",
    "\n",
    "ax = Axes3D(plt.figure()) # to make 3d figure\n",
    "ax.plot_surface(X,Y,Z, cmap='gray_r') # Draw them\n",
    "\n",
    "# to make names\n",
    "ax.set_xlabel(\"Time\")\n",
    "ax.set_ylabel(\"Work\")\n",
    "ax.set_zlabel(\"Efficiency\")"
   ]
  },
  {
   "cell_type": "code",
   "execution_count": null,
   "metadata": {},
   "outputs": [],
   "source": [
    "# edgecolor = 'b'\n",
    "X = np.arange(-4,4,0.25) # X Value\n",
    "Y = np.arange(-4,4,0.25) # Y Value \n",
    "X,Y = np.meshgrid(X,Y) # combine them\n",
    "Z = np.sin(np.sqrt(X*2 + Y**2)) # Z Value\n",
    "\n",
    "ax = Axes3D(plt.figure()) # to make 3d figure\n",
    "ax.plot_surface(X,Y,Z, cmap='hot', edgecolor='b') # Draw them\n",
    "\n",
    "# to make names\n",
    "ax.set_xlabel(\"Time\")\n",
    "ax.set_ylabel(\"Work\")\n",
    "ax.set_zlabel(\"Efficiency\")"
   ]
  },
  {
   "cell_type": "code",
   "execution_count": null,
   "metadata": {},
   "outputs": [],
   "source": [
    "# ax.set_zlim : set Z limit\n",
    "\n",
    "X = np.arange(-4,4,0.25) # X Value\n",
    "Y = np.arange(-4,4,0.25) # Y Value \n",
    "X,Y = np.meshgrid(X,Y) # combine them\n",
    "Z = np.cos(np.sqrt(X**2 + Y**2)) # Z Value\n",
    "\n",
    "ax = Axes3D(plt.figure()) # to make 3d figure\n",
    "ax.plot_surface(X,Y,Z, cmap='gray_r') # Draw them\n",
    "\n",
    "# to make names\n",
    "ax.set_xlabel(\"Time\")\n",
    "ax.set_ylabel(\"Work\")\n",
    "ax.set_zlabel(\"Efficiency\")\n",
    "ax.set_zlim(-0.9,0.7)"
   ]
  },
  {
   "cell_type": "code",
   "execution_count": null,
   "metadata": {},
   "outputs": [],
   "source": [
    "# ax.view_init(elev , azim)\n",
    "'''\n",
    "elev angel is from 0 to 360 : round from under to high \n",
    "elev angel is from 0 to 360 : round from high to under \n",
    "\n",
    "azim angel is from 0 to 360 : round from right to left\n",
    "azim angel is from 0 to 360 : round from left to right\n",
    "'''\n",
    "\n",
    "X = np.arange(-4,4,0.1) # X Value\n",
    "Y = np.arange(-4,4,0.1) # Y Value \n",
    "X,Y = np.meshgrid(X,Y) # combine them\n",
    "Z = np.sin(np.sqrt(X**2 + Y**2)) # Z Value\n",
    "\n",
    "ax = Axes3D(plt.figure()) # to make 3d figure\n",
    "ax.plot_surface(X,Y,Z, cmap='Greens') # Draw them\n",
    "\n",
    "# to make names\n",
    "ax.set_xlabel(\"Time\")\n",
    "ax.set_ylabel(\"Work\")\n",
    "ax.set_zlabel(\"Efficiency\")\n",
    "ax.view_init(360,90)"
   ]
  },
  {
   "cell_type": "markdown",
   "metadata": {},
   "source": [
    "#### ax.plot3D(x, y, z, color='b')\n",
    "+ + draw as lines"
   ]
  },
  {
   "cell_type": "code",
   "execution_count": null,
   "metadata": {},
   "outputs": [],
   "source": [
    "# axes\n",
    "z = np.linspace(0,15,100)\n",
    "x = np.sin(z)\n",
    "y = np.cos(z)\n",
    "\n",
    "fig = plt.figure()\n",
    "ax = plt.axes(projection='3d')\n",
    "\n",
    "# draw\n",
    "ax.plot3D(x,y,z,'r')"
   ]
  },
  {
   "cell_type": "markdown",
   "metadata": {},
   "source": [
    "#### ax.scatter3D(x, y, z, color='b')\n",
    "+ draw as points"
   ]
  },
  {
   "cell_type": "code",
   "execution_count": null,
   "metadata": {},
   "outputs": [],
   "source": [
    "# axes\n",
    "z = np.linspace(0,15,100)\n",
    "x = np.sin(z)\n",
    "y = np.cos(z)\n",
    "\n",
    "fig = plt.figure()\n",
    "ax = plt.axes(projection='3d')\n",
    "\n",
    "# draw\n",
    "ax.scatter3D(x,y,z,color='r')"
   ]
  },
  {
   "cell_type": "markdown",
   "metadata": {},
   "source": [
    "##### plot and scatter"
   ]
  },
  {
   "cell_type": "code",
   "execution_count": null,
   "metadata": {},
   "outputs": [],
   "source": [
    "fig = plt.figure()\n",
    "ax = plt.axes(projection='3d')\n",
    "\n",
    "# axes\n",
    "z1 = np.linspace(0,15,100)\n",
    "x1 = np.sin(z1)\n",
    "y1 = np.cos(z1)\n",
    "# draw\n",
    "ax.plot3D(x1,y1,z1,c='r')\n",
    "\n",
    "# axes\n",
    "z2 = np.linspace(15,30,100)\n",
    "x2 = np.sin(z2)\n",
    "y2 = np.cos(z2)\n",
    "# draw\n",
    "ax.scatter3D(x2,y2,z2,color='g')\n"
   ]
  },
  {
   "cell_type": "code",
   "execution_count": null,
   "metadata": {},
   "outputs": [],
   "source": [
    "# theta and r\n",
    "\n",
    "def zfun(X,Y):\n",
    "    return np.sin(np.sqrt(X**2 + Y**2))\n",
    "\n",
    "r = np.linspace(0,6,20)\n",
    "theta = np.linspace(-0.9*np.pi, 0.6*np.pi, 40) \n",
    "r,theta = np.meshgrid(r,theta) # combine them\n",
    "\n",
    "x = r * np.sin(theta) # X Value\n",
    "y = r * np.cos(theta) # Y Value \n",
    "z =  zfun(x,y) # Z Value\n",
    "\n",
    "# draw\n",
    "plt.figure() \n",
    "ax = plt.axes(projection= '3d') # to make 3d figure\n",
    "ax.plot_surface(x,y,z, cmap='Reds') # Draw them\n",
    "\n",
    "# to make names\n",
    "ax.set_xlabel(\"Time\")\n",
    "ax.set_ylabel(\"Work\")\n",
    "ax.set_zlabel(\"Efficiency\")\n",
    "# ax.view_init(80,0)"
   ]
  },
  {
   "cell_type": "code",
   "execution_count": null,
   "metadata": {},
   "outputs": [],
   "source": [
    "# ax.plot_trisurf(x,y,z,cmap) : بيرسم شكل مجعد كدا\n",
    "\n",
    "def zfun(X,Y):\n",
    "    return np.sin(np.sqrt(X**2 + Y**2))\n",
    "\n",
    "r = 5 * np.random.random(100)\n",
    "theta = 2 * np.pi * np.random.random(100)\n",
    "\n",
    "x = r * np.sin(theta) # X Value\n",
    "y = r * np.cos(theta) # Y Value \n",
    "z =  zfun(x,y) # Z Value\n",
    "\n",
    "# draw\n",
    "plt.figure() \n",
    "ax = plt.axes(projection= '3d') # to make 3d figure\n",
    "ax.plot_trisurf(x,y,z, cmap='viridis') # Draw them \n",
    "\n",
    "# to make names\n",
    "ax.set_xlabel(\"Time\")\n",
    "ax.set_ylabel(\"Work\")\n",
    "ax.set_zlabel(\"Efficiency\")\n",
    "# ax.view_init(80,0)"
   ]
  },
  {
   "cell_type": "code",
   "execution_count": null,
   "metadata": {},
   "outputs": [],
   "source": [
    "# ax.plot_contour3D(x,y,z,cmap) : بيرسم شكل ثلاثي الابعاد بس خطوط كدا\n",
    "\n",
    "def zfun(X,Y):\n",
    "    return np.sin(np.sqrt(X**2 + Y**2))\n",
    "\n",
    "r = np.linspace(-6,6,30)\n",
    "x = r  # X Value\n",
    "y = r  # Y Value\n",
    "X , Y = np.meshgrid(x,y) \n",
    "z =  zfun(X,Y) # Z Value\n",
    "\n",
    "# draw\n",
    "plt.figure() \n",
    "ax = plt.axes(projection= '3d') # to make 3d figure\n",
    "ax.contour3D(X,Y,z, 50, cmap='Blues') # Draw them , default 10 lines\n",
    "\n",
    "# to make names\n",
    "ax.set_xlabel(\"Time\")\n",
    "ax.set_ylabel(\"Work\")\n",
    "ax.set_zlabel(\"Efficiency\")\n",
    "# ax.view_init(80,0)"
   ]
  },
  {
   "cell_type": "code",
   "execution_count": null,
   "metadata": {},
   "outputs": [],
   "source": [
    "# ax.plot_wireframe(x,y,z,cmap) : بيرسم شكل خطوط كدا\n",
    "\n",
    "def zfun(X,Y):\n",
    "    return np.sin(np.sqrt(X**2 + Y**2))\n",
    "\n",
    "r = np.linspace(-6,6,30)\n",
    "x = r  # X Value\n",
    "y = r  # Y Value\n",
    "X , Y = np.meshgrid(x,y) \n",
    "z =  zfun(X,Y) # Z Value\n",
    "\n",
    "# draw\n",
    "plt.figure() \n",
    "ax = plt.axes(projection= '3d') # to make 3d figure\n",
    "ax.plot_wireframe(X,Y,z, cmap='Blues') # Draw them , default 10 lines\n",
    "\n",
    "# to make names\n",
    "ax.set_xlabel(\"Time\")\n",
    "ax.set_ylabel(\"Work\")\n",
    "ax.set_zlabel(\"Efficiency\")\n",
    "# ax.view_init(80,0)"
   ]
  },
  {
   "cell_type": "code",
   "execution_count": null,
   "metadata": {},
   "outputs": [],
   "source": [
    "# ax.plot_wireframe(x,y,z,cmap) : بيرسم شكل خطوط كدا\n",
    "\n",
    "def zfun(X,Y):\n",
    "    return np.sin(np.sqrt(X**2 + Y**2))\n",
    "\n",
    "r = np.linspace(-6,6,30)\n",
    "x = r  # X Value\n",
    "y = r  # Y Value\n",
    "X , Y = np.meshgrid(x,y) \n",
    "z =  zfun(X,Y) # Z Value\n",
    "\n",
    "# draw\n",
    "plt.figure() \n",
    "ax = plt.axes(projection= '3d') # to make 3d figure\n",
    "ax.scatter(X,Y,z, cmap='Blues') # Draw them , default 10 lines\n",
    "\n",
    "# to make names\n",
    "ax.set_xlabel(\"Time\")\n",
    "ax.set_ylabel(\"Work\")\n",
    "ax.set_zlabel(\"Efficiency\")\n",
    "# ax.view_init(80,0)"
   ]
  },
  {
   "cell_type": "markdown",
   "metadata": {},
   "source": [
    "# 9. subplot"
   ]
  },
  {
   "cell_type": "markdown",
   "metadata": {},
   "source": [
    "##### plt.subplot(rows, cols, number of graph)\n",
    "+ To make more graph next to each other\n",
    "+ "
   ]
  },
  {
   "cell_type": "code",
   "execution_count": null,
   "metadata": {},
   "outputs": [],
   "source": [
    "# plt.plot(x,y)\n",
    "\n",
    "x = np.linspace(0,50)\n",
    "y = x*3\n",
    "plt.subplot(1,2,1)\n",
    "plt.plot(x,y,c='r')\n",
    "y = x * -3\n",
    "plt.subplot(1,2,2)\n",
    "plt.plot(x,y,c='b')"
   ]
  },
  {
   "cell_type": "code",
   "execution_count": null,
   "metadata": {},
   "outputs": [],
   "source": [
    "# more graph ..\n",
    "\n",
    "x = np.linspace(0,100)\n",
    "y = 3*x\n",
    "plt.subplot(2,2,1)\n",
    "plt.plot(x,y,c='r')\n",
    "\n",
    "y = -3*x\n",
    "plt.subplot(2,2,2)\n",
    "plt.plot(x,y,c='g')\n",
    "\n",
    "y = x**2\n",
    "plt.subplot(2,2,3)\n",
    "plt.plot(x,y,c='b')\n",
    "\n",
    "y = x**0.5\n",
    "plt.subplot(224) # mmkn without comma = (2,2,4)\n",
    "plt.plot(x,y,c='r')"
   ]
  },
  {
   "cell_type": "code",
   "execution_count": null,
   "metadata": {},
   "outputs": [],
   "source": [
    "# plt.subplots_adjust(left,right, bottom,top, wspace,hspace)\n",
    "\n",
    "x = np.linspace(0,100)\n",
    "y = 3*x\n",
    "plt.subplot(2,2,1)\n",
    "plt.plot(x,y,c='r')\n",
    "\n",
    "y = -3*x\n",
    "plt.subplot(2,2,2)\n",
    "plt.plot(x,y,c='g')\n",
    "\n",
    "y = x**2\n",
    "plt.subplot(2,2,3)\n",
    "plt.plot(x,y,c='b')\n",
    "\n",
    "y = x**0.5\n",
    "plt.subplot(224) # mmkn without comma = (2,2,4)\n",
    "plt.plot(x,y,c='r')\n",
    "\n",
    "plt.subplots_adjust(left=0,right=2, bottom=1,top=2, wspace=2,hspace=1)\n",
    "# wspace is weight space\n",
    "# hspace is hight space"
   ]
  },
  {
   "cell_type": "code",
   "execution_count": null,
   "metadata": {},
   "outputs": [],
   "source": [
    "# diff graph for subplots with index \n",
    "# make use it in for loop\n",
    "\n",
    "x = np.linspace(0,100)\n",
    "\n",
    "fig, ax = plt.subplots(5)\n",
    "\n",
    "ax[0].plot(x,3*x)\n",
    "ax[1].plot(x,-x/400)\n",
    "ax[2].plot(x,300*(0.002*x+3))\n",
    "ax[3].plot(x,np.sin(x))\n",
    "ax[4].plot(x,x**0.1)                                               "
   ]
  },
  {
   "cell_type": "code",
   "execution_count": null,
   "metadata": {},
   "outputs": [],
   "source": [
    "# for loop in subplot() \n",
    "# plt.text(x,y, text, ha)\n",
    "# ha is center\n",
    "\n",
    "for i in range(1,7):\n",
    "    plt.subplot(2,3,i)\n",
    "    plt.text(0.5,0.5, str((2,3,i)),fontsize=18, ha = 'center')"
   ]
  },
  {
   "cell_type": "code",
   "execution_count": null,
   "metadata": {},
   "outputs": [],
   "source": [
    "# sharex\n",
    "fig , ax = plt.subplots(2,3,sharex='col')"
   ]
  },
  {
   "cell_type": "code",
   "execution_count": null,
   "metadata": {},
   "outputs": [],
   "source": [
    "# sharey\n",
    "fig , ax = plt.subplots(2,3,sharey='row')"
   ]
  },
  {
   "cell_type": "code",
   "execution_count": null,
   "metadata": {},
   "outputs": [],
   "source": [
    "# sharex and sharey\n",
    "fig , ax = plt.subplots(2,3,sharex='col', sharey='row')"
   ]
  },
  {
   "cell_type": "code",
   "execution_count": null,
   "metadata": {},
   "outputs": [],
   "source": [
    "# gridspec : grid specifie\n",
    "grid = plt.GridSpec(3,3)\n",
    "plt.subplot(grid[0,0])\n",
    "plt.subplot(grid[0,1:])\n",
    "plt.subplot(grid[1,:2])\n",
    "plt.subplot(grid[1,2])\n",
    "plt.subplot(grid[2,:])"
   ]
  },
  {
   "cell_type": "code",
   "execution_count": null,
   "metadata": {},
   "outputs": [],
   "source": [
    "# fig.add.subplot(rows,cols,count, polar=True)\n",
    "# polar for r and theta not x and y\n",
    "fig = plt.figure()\n",
    "ax = fig.add_subplot(1,1,1,polar=True)"
   ]
  },
  {
   "cell_type": "code",
   "execution_count": null,
   "metadata": {},
   "outputs": [],
   "source": [
    "# r and theta \n",
    "# lw is line width\n",
    "fig = plt.figure()\n",
    "ax = fig.add_subplot(1,1,1,polar=True)\n",
    "r = np.arange(0,1,0.01)\n",
    "theta  = np.pi*r*4  # theta is small then line is big \n",
    "line = ax.plot(theta,r,color='y',lw=3)"
   ]
  },
  {
   "cell_type": "markdown",
   "metadata": {},
   "source": [
    "# 10. Annotate"
   ]
  },
  {
   "cell_type": "markdown",
   "metadata": {},
   "source": [
    "#### plt.annotate(text, xy, xytext, arrowsprops=dict(color, lw, shrink,))\n",
    "+ used for text on arrows\n",
    "+ must pass text and xy and xytext\n",
    "+ maybe pass color or lw or shirnk\n",
    "+ lw is line width\n",
    "+ shrink is ضغط السهم اللي هو المسافة بين الكلام وبين السهم\n",
    "+ connectionstyle= \"angle3, angleA=0, angleB=-90\""
   ]
  },
  {
   "cell_type": "code",
   "execution_count": null,
   "metadata": {},
   "outputs": [],
   "source": [
    "# to draw graph\n",
    "fig, ax = plt.subplots()\n",
    "x = np.linspace(0, 20, 1000)\n",
    "y= -((x-10)**2) +5\n",
    "ax.plot(x,y)\n",
    "\n",
    "# to draw straight arrows\n",
    "plt.annotate('Max', xy=(10,6), xytext =(13,10), arrowprops =dict(color='r', shrink=0.02, lw =1.5)) # red arrows\n",
    "plt.annotate('5', xy=(5,-20), xytext =(2,0), arrowprops =dict(color='b', shrink=3, lw =5)) # blue arrows\n",
    "plt.annotate('15', xy=(15,-20), xytext =(10,-60), arrowprops =dict(color='g', shrink=30, lw =10)) # green arrows"
   ]
  },
  {
   "cell_type": "code",
   "execution_count": null,
   "metadata": {},
   "outputs": [],
   "source": [
    "# connectionstyle= \"angle3, angleA=0, angleB=-90\"\n",
    "# for used in curved arrow\n",
    "''' \n",
    "# angle3 \n",
    "maybe is angle1 or 2 or 3 or 4  \n",
    "يعني هتعامل فالربع التالت\n",
    "الاول | التاني \n",
    "الرابع | التالت\n",
    "\n",
    "# angleA\n",
    "maybe is 0 , 90 , 180 , 270 , 360 : from 0 to 360 degree\n",
    "if is negative -90 then -90 + 360 = 270 \n",
    "\n",
    "# angleB\n",
    "maybe is 0 , 90 , 180 , 270 , 360 : from 0 to 360 degree\n",
    "if is negative -90 then -90 + 360 = 270 \n",
    "'''\n",
    "\n",
    "fig, ax = plt.subplots()\n",
    "x = np.linspace(0, 20, 1000)\n",
    "ax.plot(x, np.cos(x))\n",
    "ax.axis('equal')\n",
    "\n",
    "# Straight arrows\n",
    "ax.annotate('local maximum', xy=(6.28, 1), xytext=(10, 4), arrowprops=dict(color='b'))\n",
    "# curved arrows\n",
    "ax.annotate('local minimum', xy=(15,-1), xytext=(2, -6), arrowprops=dict(color='r', connectionstyle=\"angle3, angleA=0, angleB=-90\"))"
   ]
  },
  {
   "cell_type": "markdown",
   "metadata": {},
   "source": [
    "# 11. imshow "
   ]
  },
  {
   "cell_type": "markdown",
   "metadata": {},
   "source": [
    "# plt.imshow \n",
    "+ same contour bas contour(x_matrix, y_matrix, z_matrix) and imshow(z_matrix)"
   ]
  },
  {
   "cell_type": "markdown",
   "metadata": {},
   "source": [
    "# Electro pi"
   ]
  },
  {
   "cell_type": "code",
   "execution_count": 103,
   "metadata": {},
   "outputs": [],
   "source": [
    "import matplotlib.pyplot as plt\n",
    "import numpy as np\n",
    "import pandas as pd"
   ]
  },
  {
   "cell_type": "code",
   "execution_count": 6,
   "metadata": {},
   "outputs": [
    {
     "data": {
      "text/plain": [
       "array([1, 2, 3, 4])"
      ]
     },
     "execution_count": 6,
     "metadata": {},
     "output_type": "execute_result"
    }
   ],
   "source": [
    "np.array([1,2,3,4])"
   ]
  },
  {
   "cell_type": "markdown",
   "metadata": {},
   "source": [
    "linestyle: '-', '--', '-.', ':'"
   ]
  },
  {
   "cell_type": "markdown",
   "metadata": {},
   "source": [
    "### Plot"
   ]
  },
  {
   "cell_type": "code",
   "execution_count": 17,
   "metadata": {},
   "outputs": [
    {
     "data": {
      "image/png": "[encoded data removed]",
      "text/plain": [
       "<Figure size 700x500 with 1 Axes>"
      ]
     },
     "metadata": {},
     "output_type": "display_data"
    }
   ],
   "source": [
    "plt.figure(figsize=(7,5))\n",
    "plt.plot(np.array([1, 2, 3, 4]), np.array([1, 2, 3, 4]), label= 'linear', color='black', linestyle='--', linewidth= 4)\n",
    "plt.plot(np.array([1, 2, 3, 4]), np.square(np.array([1, 2, 3, 4])), label= 'square', color='red', linestyle='-.', linewidth= 2)\n",
    "plt.plot(np.array([1, 2, 3, 4]), np.power(np.array([1, 2, 3, 4]), 3), label= 'cubed', color='yellow', linestyle=':', linewidth= 3)\n",
    "plt.xlabel('X')\n",
    "plt.ylabel('Y')\n",
    "plt.title('graph')\n",
    "plt.legend(loc='upper left')\n",
    "plt.show()"
   ]
  },
  {
   "cell_type": "markdown",
   "metadata": {},
   "source": [
    "### Subplots"
   ]
  },
  {
   "cell_type": "code",
   "execution_count": 28,
   "metadata": {},
   "outputs": [
    {
     "data": {
      "image/png": "[encoded data removed]",
      "text/plain": [
       "<Figure size 640x480 with 4 Axes>"
      ]
     },
     "metadata": {},
     "output_type": "display_data"
    }
   ],
   "source": [
    "fig, ax= plt.subplots(2,2)\n",
    "# ax # contian index for graphs\n",
    "x= np.array([1, 2, 3, 4])\n",
    "ax[0][0].plot(x,x, label= 'linear')\n",
    "ax[0][1].plot(x,x**2, label= 'square')\n",
    "ax[1][0].plot(x,x**3, label= 'power 3')\n",
    "ax[1,1].plot(x,x**4, label= 'power 4')\n",
    "plt.show()"
   ]
  },
  {
   "cell_type": "markdown",
   "metadata": {},
   "source": [
    "### barchart : in case categories with counts or sum for comapre more than one category"
   ]
  },
  {
   "cell_type": "markdown",
   "metadata": {},
   "source": [
    "bar for one column"
   ]
  },
  {
   "cell_type": "code",
   "execution_count": 111,
   "metadata": {},
   "outputs": [
    {
     "data": {
      "image/png": "[encoded data removed]",
      "text/plain": [
       "<Figure size 640x480 with 1 Axes>"
      ]
     },
     "metadata": {},
     "output_type": "display_data"
    }
   ],
   "source": [
    "data = {'gender': ['male', 'female', 'female', 'male', 'female', 'male', 'female', 'male', 'female']}\n",
    "df= pd.DataFrame(data) # convert data to dataframe\n",
    "df_count= df['gender'].value_counts() # get columns (female, male) and number of gender (5, 4)\n",
    "x= df_count.index # female and male\n",
    "height= df_count.values # 5 and 4\n",
    "plt.bar(x, height) # (cols, indexes)\n",
    "# plt.barh(x, height) # bar horizontal\n",
    "plt.show()"
   ]
  },
  {
   "cell_type": "markdown",
   "metadata": {},
   "source": [
    "bar for two column"
   ]
  },
  {
   "cell_type": "code",
   "execution_count": 157,
   "metadata": {},
   "outputs": [
    {
     "name": "stderr",
     "output_type": "stream",
     "text": [
      "No artists with labels found to put in legend.  Note that artists whose label start with an underscore are ignored when legend() is called with no argument.\n"
     ]
    },
    {
     "data": {
      "image/png": "[encoded data removed]",
      "text/plain": [
       "<Figure size 640x480 with 1 Axes>"
      ]
     },
     "metadata": {},
     "output_type": "display_data"
    }
   ],
   "source": [
    "data = {'gender': ['male', 'female', 'female', 'male', 'female', 'male', 'female', 'male', 'female', 'male', 'female', 'male', 'female', 'male', 'female','male'],\n",
    "        'country': ['US', 'Egypt', 'US', 'Egypt', 'Egypt', 'US', 'Egypt', 'US', 'Egypt', 'Egypt', 'US', 'Egypt', 'US', 'Egypt', 'US', 'Egypt']}\n",
    "df= pd.DataFrame(data) # cconvert data to DataFrame\n",
    "male_df= df[df['gender'] == 'male'] # dataframe with male only\n",
    "female_df= df[df['gender'] == 'female'] # dataframe with female only\n",
    "\n",
    "male_count_df= male_df['country'].value_counts() # number male in countries\n",
    "female_count_df= female_df['country'].value_counts() # number female in countries\n",
    "\n",
    "plt.bar(male_count_df.index, male_count_df.values)\n",
    "plt.bar(female_count_df.index, female_count_df.values)\n",
    "\n",
    "plt.xlabel('gender')\n",
    "plt.ylabel('number gender in country')\n",
    "plt.title('Egypt vs US with male and female')\n",
    "plt.legend()\n",
    "plt.show()"
   ]
  },
  {
   "cell_type": "markdown",
   "metadata": {},
   "source": [
    "we have a problem with width on graph, so we should shift width to left with subtract 0.25"
   ]
  },
  {
   "cell_type": "code",
   "execution_count": 158,
   "metadata": {},
   "outputs": [
    {
     "data": {
      "image/png": "[encoded data removed]",
      "text/plain": [
       "<Figure size 640x480 with 1 Axes>"
      ]
     },
     "metadata": {},
     "output_type": "display_data"
    }
   ],
   "source": [
    "data = {'gender': ['male', 'female', 'female', 'male', 'female', 'male', 'female', 'male', 'female', 'male', 'female', 'male', 'female', 'male', 'female','male'],\n",
    "        'country': ['US', 'Egypt', 'US', 'Egypt', 'Egypt', 'US', 'Egypt', 'US', 'Egypt', 'Egypt', 'US', 'Egypt', 'US', 'Egypt', 'US', 'Egypt']}\n",
    "df= pd.DataFrame(data) # cconvert data to DataFrame\n",
    "male_df= df[df['gender'] == 'male'] # dataframe with male only\n",
    "female_df= df[df['gender'] == 'female'] # dataframe with female only\n",
    "\n",
    "male_count_df= male_df['country'].value_counts() # number male in countries\n",
    "female_count_df= female_df['country'].value_counts() # number female in countries\n",
    "\n",
    "# create idx which contains len dataframe and width which shift with it.\n",
    "idx, width= np.arange(len(data)), 0.25\n",
    "\n",
    "plt.bar(idx - width, male_count_df.values, label='male') # shift male to left side \n",
    "plt.bar(idx, female_count_df.values, label= 'female')\n",
    "\n",
    "plt.xticks(idx, male_count_df.index) # take column names\n",
    "plt.xlabel('gender')\n",
    "plt.ylabel('number gender in country')\n",
    "plt.title('Egypt vs US with male and female')\n",
    "plt.legend()\n",
    "plt.show()"
   ]
  },
  {
   "cell_type": "markdown",
   "metadata": {},
   "source": [
    "we make shift but we have problem with overlapping, so use arg width with assign width"
   ]
  },
  {
   "cell_type": "code",
   "execution_count": 155,
   "metadata": {},
   "outputs": [
    {
     "name": "stderr",
     "output_type": "stream",
     "text": [
      "No artists with labels found to put in legend.  Note that artists whose label start with an underscore are ignored when legend() is called with no argument.\n"
     ]
    },
    {
     "data": {
      "image/png": "[encoded data removed]",
      "text/plain": [
       "<Figure size 640x480 with 1 Axes>"
      ]
     },
     "metadata": {},
     "output_type": "display_data"
    }
   ],
   "source": [
    "data = {'gender': ['male', 'female', 'female', 'male', 'female', 'male', 'female', 'male', 'female', 'male', 'female', 'male', 'female', 'male', 'female','male'],\n",
    "        'country': ['US', 'Egypt', 'US', 'Egypt', 'Egypt', 'US', 'Egypt', 'US', 'Egypt', 'Egypt', 'US', 'Egypt', 'US', 'Egypt', 'US', 'Egypt']}\n",
    "df= pd.DataFrame(data) # cconvert data to DataFrame\n",
    "male_df= df[df['gender'] == 'male'] # dataframe with male only\n",
    "female_df= df[df['gender'] == 'female'] # dataframe with female only\n",
    "\n",
    "male_count_df= male_df['country'].value_counts() # number male in countries\n",
    "female_count_df= female_df['country'].value_counts() # number female in countries\n",
    "\n",
    "# create idx which contains len dataframe and width which move with it.\n",
    "idx, width= np.arange(len(data)), 0.25\n",
    "\n",
    "# use arg width with assign width\n",
    "plt.bar(idx - width, male_count_df.values, width=width)\n",
    "plt.bar(idx, female_count_df.values, width=width)\n",
    "\n",
    "plt.xticks(idx, male_count_df.index) # take column names\n",
    "plt.xlabel('gender')\n",
    "plt.ylabel('number gender in country')\n",
    "plt.title('Egypt vs US with male and female')\n",
    "plt.legend()\n",
    "plt.show()"
   ]
  },
  {
   "cell_type": "markdown",
   "metadata": {},
   "source": [
    "### Histogram: in case numerical values"
   ]
  },
  {
   "cell_type": "code",
   "execution_count": 170,
   "metadata": {},
   "outputs": [
    {
     "data": {
      "image/png": "[encoded data removed]",
      "text/plain": [
       "<Figure size 640x480 with 1 Axes>"
      ]
     },
     "metadata": {},
     "output_type": "display_data"
    }
   ],
   "source": [
    "plt.hist(df['gender'], bins= 4)\n",
    "plt.show()"
   ]
  },
  {
   "cell_type": "code",
   "execution_count": 189,
   "metadata": {},
   "outputs": [
    {
     "data": {
      "text/plain": [
       "(array([ 8.,  8., 16.]),\n",
       " array([0.        , 0.33333333, 0.66666667, 1.        ]),\n",
       " <BarContainer object of 3 artists>)"
      ]
     },
     "execution_count": 189,
     "metadata": {},
     "output_type": "execute_result"
    },
    {
     "data": {
      "image/png": "[encoded data removed]",
      "text/plain": [
       "<Figure size 640x480 with 1 Axes>"
      ]
     },
     "metadata": {},
     "output_type": "display_data"
    }
   ],
   "source": [
    "plt.hist(df['gender'], bins= 3, color= 'yellow', cumulative= True, edgecolor='white', linewidth= 3)\n",
    "# plt.show()"
   ]
  },
  {
   "cell_type": "markdown",
   "metadata": {},
   "source": [
    "without plt.show(), we show return values, bins and patches, so we take them in variable to loop through them to `change colors`."
   ]
  },
  {
   "cell_type": "code",
   "execution_count": 193,
   "metadata": {},
   "outputs": [
    {
     "name": "stdout",
     "output_type": "stream",
     "text": [
      "2\n"
     ]
    },
    {
     "data": {
      "image/png": "[encoded data removed]",
      "text/plain": [
       "<Figure size 640x480 with 1 Axes>"
      ]
     },
     "metadata": {},
     "output_type": "display_data"
    }
   ],
   "source": [
    "values, bins, patches= plt.hist(df['gender'], bins= 2, color= 'red', edgecolor='white' , linewidth= 3)\n",
    "print(len(patches)) # 2\n",
    "\n",
    "for i in range(0 , len(patches) - 1): # 0 to 1, 1 not included\n",
    "    patches[i].set_facecolor('y')\n",
    "for i in range(len(patches) - 1 , len(patches)): # 1 to 2, 2 not included\n",
    "    patches[i].set_facecolor('b')\n",
    "    \n",
    "plt.title('gender distribution')\n",
    "plt.xlabel('Gender')\n",
    "plt.ylabel('Frequency')\n",
    "plt.grid(True)"
   ]
  },
  {
   "cell_type": "markdown",
   "metadata": {},
   "source": [
    "### Scatter: graph between numberical and categorical variables are categories, take each point w bplot each values in category1 and category2 w plot it"
   ]
  },
  {
   "cell_type": "code",
   "execution_count": 239,
   "metadata": {},
   "outputs": [
    {
     "data": {
      "text/html": [
       "<div>\n",
       "<style scoped>\n",
       "    .dataframe tbody tr th:only-of-type {\n",
       "        vertical-align: middle;\n",
       "    }\n",
       "\n",
       "    .dataframe tbody tr th {\n",
       "        vertical-align: top;\n",
       "    }\n",
       "\n",
       "    .dataframe thead th {\n",
       "        text-align: right;\n",
       "    }\n",
       "</style>\n",
       "<table border=\"1\" class=\"dataframe\">\n",
       "  <thead>\n",
       "    <tr style=\"text-align: right;\">\n",
       "      <th></th>\n",
       "      <th>F1</th>\n",
       "      <th>F2</th>\n",
       "      <th>F3</th>\n",
       "    </tr>\n",
       "  </thead>\n",
       "  <tbody>\n",
       "    <tr>\n",
       "      <th>0</th>\n",
       "      <td>7</td>\n",
       "      <td>16</td>\n",
       "      <td>12</td>\n",
       "    </tr>\n",
       "    <tr>\n",
       "      <th>1</th>\n",
       "      <td>1</td>\n",
       "      <td>19</td>\n",
       "      <td>18</td>\n",
       "    </tr>\n",
       "    <tr>\n",
       "      <th>2</th>\n",
       "      <td>7</td>\n",
       "      <td>1</td>\n",
       "      <td>9</td>\n",
       "    </tr>\n",
       "    <tr>\n",
       "      <th>3</th>\n",
       "      <td>19</td>\n",
       "      <td>10</td>\n",
       "      <td>5</td>\n",
       "    </tr>\n",
       "    <tr>\n",
       "      <th>4</th>\n",
       "      <td>14</td>\n",
       "      <td>1</td>\n",
       "      <td>9</td>\n",
       "    </tr>\n",
       "    <tr>\n",
       "      <th>...</th>\n",
       "      <td>...</td>\n",
       "      <td>...</td>\n",
       "      <td>...</td>\n",
       "    </tr>\n",
       "    <tr>\n",
       "      <th>95</th>\n",
       "      <td>6</td>\n",
       "      <td>8</td>\n",
       "      <td>15</td>\n",
       "    </tr>\n",
       "    <tr>\n",
       "      <th>96</th>\n",
       "      <td>19</td>\n",
       "      <td>9</td>\n",
       "      <td>3</td>\n",
       "    </tr>\n",
       "    <tr>\n",
       "      <th>97</th>\n",
       "      <td>17</td>\n",
       "      <td>14</td>\n",
       "      <td>14</td>\n",
       "    </tr>\n",
       "    <tr>\n",
       "      <th>98</th>\n",
       "      <td>8</td>\n",
       "      <td>14</td>\n",
       "      <td>4</td>\n",
       "    </tr>\n",
       "    <tr>\n",
       "      <th>99</th>\n",
       "      <td>19</td>\n",
       "      <td>11</td>\n",
       "      <td>8</td>\n",
       "    </tr>\n",
       "  </tbody>\n",
       "</table>\n",
       "<p>100 rows × 3 columns</p>\n",
       "</div>"
      ],
      "text/plain": [
       "    F1  F2  F3\n",
       "0    7  16  12\n",
       "1    1  19  18\n",
       "2    7   1   9\n",
       "3   19  10   5\n",
       "4   14   1   9\n",
       "..  ..  ..  ..\n",
       "95   6   8  15\n",
       "96  19   9   3\n",
       "97  17  14  14\n",
       "98   8  14   4\n",
       "99  19  11   8\n",
       "\n",
       "[100 rows x 3 columns]"
      ]
     },
     "execution_count": 239,
     "metadata": {},
     "output_type": "execute_result"
    }
   ],
   "source": [
    "col1= np.random.randint(0, 20, size=(1,100))\n",
    "col2= np.random.randint(0, 20, size=(1,100))\n",
    "col3= np.random.randint(0, 20, size=(1,100))\n",
    "df= pd.DataFrame({'F1':col1[0], 'F2':col2[0], 'F3':col3[0]})\n",
    "df"
   ]
  },
  {
   "cell_type": "code",
   "execution_count": 240,
   "metadata": {},
   "outputs": [
    {
     "data": {
      "text/plain": [
       "<matplotlib.collections.PathCollection at 0x221f505c250>"
      ]
     },
     "execution_count": 240,
     "metadata": {},
     "output_type": "execute_result"
    },
    {
     "data": {
      "image/png": "[encoded data removed]",
      "text/plain": [
       "<Figure size 640x480 with 1 Axes>"
      ]
     },
     "metadata": {},
     "output_type": "display_data"
    }
   ],
   "source": [
    "plt.scatter(df['F1'], df['F2'], df['F3'], color= 'black', marker= 'v')"
   ]
  },
  {
   "cell_type": "code",
   "execution_count": 241,
   "metadata": {},
   "outputs": [
    {
     "data": {
      "image/png": "[encoded data removed]",
      "text/plain": [
       "<Figure size 640x480 with 1 Axes>"
      ]
     },
     "metadata": {},
     "output_type": "display_data"
    }
   ],
   "source": [
    "plt.scatter(df['F1'], df['F2'], color= 'black', marker= 'd', label= 'F1 F2')\n",
    "plt.scatter(df['F1'], df['F3'], color= 'red', marker= 'v', label= 'F2 F3')\n",
    "plt.title('F1 F2 F3')\n",
    "plt.xlabel('F1')\n",
    "plt.ylabel('F2 and F3')\n",
    "plt.legend()\n",
    "plt.grid(True)\n",
    "plt.show()"
   ]
  },
  {
   "cell_type": "markdown",
   "metadata": {},
   "source": [
    "### Pie"
   ]
  },
  {
   "cell_type": "code",
   "execution_count": 267,
   "metadata": {},
   "outputs": [
    {
     "data": {
      "text/plain": [
       "gender\n",
       "female    8\n",
       "male      7\n",
       "Name: count, dtype: int64"
      ]
     },
     "execution_count": 267,
     "metadata": {},
     "output_type": "execute_result"
    }
   ],
   "source": [
    "data = {'gender': ['male', 'female', 'female', 'female', 'male', 'female', 'male', 'female', 'male', 'female', 'male', 'female', 'male', 'female','male'],\n",
    "        'country': ['US', 'Egypt', 'Egypt', 'Egypt', 'US', 'Egypt', 'US', 'Egypt', 'Egypt', 'US', 'Egypt', 'US', 'Egypt', 'US', 'Egypt']}\n",
    "df= pd.DataFrame(data)\n",
    "count= df['gender'].value_counts()\n",
    "count"
   ]
  },
  {
   "cell_type": "code",
   "execution_count": 269,
   "metadata": {},
   "outputs": [
    {
     "data": {
      "image/png": "[encoded data removed]",
      "text/plain": [
       "<Figure size 640x480 with 1 Axes>"
      ]
     },
     "metadata": {},
     "output_type": "display_data"
    }
   ],
   "source": [
    "plt.pie(count)\n",
    "plt.show()"
   ]
  },
  {
   "cell_type": "code",
   "execution_count": 273,
   "metadata": {},
   "outputs": [
    {
     "data": {
      "image/png": "[encoded data removed]",
      "text/plain": [
       "<Figure size 640x480 with 1 Axes>"
      ]
     },
     "metadata": {},
     "output_type": "display_data"
    }
   ],
   "source": [
    "labels= count.index.tolist()\n",
    "plt.pie(count, labels=labels, rotatelabels=True)\n",
    "plt.title('Gender')\n",
    "plt.show()"
   ]
  },
  {
   "cell_type": "code",
   "execution_count": null,
   "metadata": {},
   "outputs": [],
   "source": []
  }
 ],
 "metadata": {
  "kernelspec": {
   "display_name": "Python 3.10.4 64-bit",
   "language": "python",
   "name": "python3"
  },
  "language_info": {
   "codemirror_mode": {
    "name": "ipython",
    "version": 3
   },
   "file_extension": ".py",
   "mimetype": "text/x-python",
   "name": "python",
   "nbconvert_exporter": "python",
   "pygments_lexer": "ipython3",
   "version": "3.11.4"
  },
  "orig_nbformat": 4,
  "vscode": {
   "interpreter": {
    "hash": "916dbcbb3f70747c44a77c7bcd40155683ae19c65e1c03b4aa3499c5328201f1"
   }
  }
 },
 "nbformat": 4,
 "nbformat_minor": 2
}
